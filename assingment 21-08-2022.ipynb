{
 "cells": [
  {
   "cell_type": "markdown",
   "id": "16126e34",
   "metadata": {},
   "source": [
    "# A.I ASSINGMENT SUNDAY 21 August 2022\n",
    "# Muhammad Ali Shah\n",
    "# Roll No: PIAIC175287"
   ]
  },
  {
   "cell_type": "code",
   "execution_count": 5,
   "id": "9859c7aa",
   "metadata": {},
   "outputs": [
    {
     "name": "stdout",
     "output_type": "stream",
     "text": [
      "Give Student id: 15\n",
      "Give Student class:mechanical or civil: mechanical\n",
      "Give Student exam:quiz1 or quiz2 or mid or final quiz2\n",
      "Marks of furqan in mechanical quiz2 exam is 28\n"
     ]
    }
   ],
   "source": [
    "class1={\"name\":\"MECHANICAL\"\n",
    "       }\n",
    "class2={\"name\":\"CIVIL\"\n",
    "       }\n",
    "students = {\n",
    "\"student_11\" : {\"name\" : \"ALI\",\"class_mechanical\" : class1, \"marks_mechanical\" : {\"quiz1\" : 22, \"quiz2\" : 55, \"mid\" : 30,\n",
    "            \"final\" : 45},\"class_civil\" : class2, \"marks_civil\":{\"quiz1\" : 32, \"quiz2\" : 35, \"mid\" : 64,\n",
    "            \"final\" : 88}},\n",
    "\"student_12\" : {\"name\" : \"uzair\", \"class_mechanical\" : class1, \"marks_mechanical\":{\"quiz1\" : 10, \"quiz2\" : 25, \"mid\" : 30,\n",
    "            \"final\" : 82}, \"class_civil\" : class2, \"marks_civil\":{\"quiz1\" : 31, \"quiz2\" : 41, \"mid\" : 44,\n",
    "            \"final\" : 66}},\n",
    "\"student_13\" : {\"name\" : \"ubaid\", \"class_mechanical\" : class1, \"marks_mechanical\":{\"quiz1\" : 34, \"quiz2\" : 41, \"mid\" : 33,\n",
    "            \"final\" : 52}, \"class_civil\" : class2, \"marks_civil\":{\"quiz1\" : 52, \"quiz2\" : 88, \"mid\" : 43,\n",
    "            \"final\" : 72}},\n",
    "\"student_14\" : {\"name\" : \"irfan\", \"class_mechanical\" : class1,\"marks_mechanical\":{\"quiz1\" : 32, \"quiz2\" : 58, \"mid\" : 43,\n",
    "            \"final\" : 38}, \"class_civil\" : class2, \"marks_civil\":{\"quiz1\" : 44, \"quiz2\" : 99, \"mid\" : 74,\n",
    "            \"final\" : 69}},\n",
    "\"student_15\" : {\"name\" : \"furqan\", \"class_mechanical\" : class1,\"marks_mechanical\":{\"quiz1\" : 42, \"quiz2\" : 28, \"mid\" : 33,\n",
    "            \"final\" : 78}, \"class_civil\" : class2, \"marks_civil\":{\"quiz1\" : 44, \"quiz2\" : 50, \"mid\" : 55,\n",
    "            \"final\" : 88}},\n",
    "\"student_16\" : {\"name\" : \"aziz\", \"class_mechanical\" : class1,\"marks_mechanical\":{\"quiz1\" : 45, \"quiz2\" : 58, \"mid\" : 63,\n",
    "            \"final\" : 98}, \"class_civil\" : class2, \"marks_civil\":{\"quiz1\" : 45, \"quiz2\" : 51, \"mid\" : 56,\n",
    "            \"final\" : 61}},\n",
    "\"student_17\" : {\"name\" : \"sohail\", \"class_mechanical\" : class1,\"marks_mechanical\":{\"quiz1\" : 42, \"quiz2\" : 48, \"mid\" : 53,\n",
    "            \"final\" : 51}, \"class_civil\" : class2, \"marks_civil\":{\"quiz1\" : 66, \"quiz2\" : 52, \"mid\" : 47,\n",
    "            \"final\" : 68}},\n",
    "\"student_18\" : {\"name\" : \"zaigham\", \"class_mechanical\" : class1,\"marks_mechanical\":{\"quiz1\" : 33, \"quiz2\" : 50, \"mid\" : 13,\n",
    "            \"final\" : 38}, \"class_civil\" : class2, \"marks_civil\":{\"quiz1\" : 44, \"quiz2\" : 53, \"mid\" : 18,\n",
    "            \"final\" : 43}},\n",
    "\"student_19\" : {\"name\" : \"ayaz\", \"class_mechanical\" : class1,\"marks_mechanical\":{\"quiz1\" : 42, \"quiz2\" : 48, \"mid\" : 53,\n",
    "            \"final\" : 48}, \"class_civil\" : class2, \"marks_civil\":{\"quiz1\" : 88, \"quiz2\" : 55, \"mid\" : 29,\n",
    "            \"final\" : 44}},\n",
    "\"student_20\" : {\"name\" : \"talha\", \"class_mechanical\" : class1,\"marks_mechanical\":{\"quiz1\" : 22, \"quiz2\" : 88, \"mid\" : 93,\n",
    "            \"final\" : 58}, \"class_civil\" : class2, \"marks_civil\":{\"quiz1\" : 49, \"quiz2\" : 55, \"mid\" : 10,\n",
    "            \"final\" : 22}}\n",
    "}\n",
    "stud_id = input (\"Give Student id: \")\n",
    "stud_id = \"student_\" + stud_id\n",
    "stud_class = input (\"Give Student class:mechanical or civil: \")\n",
    "stud_class_a = \"marks_\" + stud_class\n",
    "stud_class_b = \"class_\" + stud_class\n",
    "stud_exam = input (\"Give Student exam:quiz1 or quiz2 or mid or final \")\n",
    "print (\"Marks of\" , students[stud_id][\"name\"] , \"in\" , stud_class, stud_exam , \"exam is\" , \n",
    "       students[stud_id][stud_class_a][stud_exam])"
   ]
  },
  {
   "cell_type": "code",
   "execution_count": null,
   "id": "85733549",
   "metadata": {},
   "outputs": [],
   "source": []
  }
 ],
 "metadata": {
  "kernelspec": {
   "display_name": "Python 3 (ipykernel)",
   "language": "python",
   "name": "python3"
  },
  "language_info": {
   "codemirror_mode": {
    "name": "ipython",
    "version": 3
   },
   "file_extension": ".py",
   "mimetype": "text/x-python",
   "name": "python",
   "nbconvert_exporter": "python",
   "pygments_lexer": "ipython3",
   "version": "3.9.12"
  }
 },
 "nbformat": 4,
 "nbformat_minor": 5
}
